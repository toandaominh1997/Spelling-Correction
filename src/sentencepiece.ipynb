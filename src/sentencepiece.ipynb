{
 "cells": [
  {
   "cell_type": "code",
   "execution_count": 3,
   "metadata": {
    "ExecuteTime": {
     "end_time": "2018-11-04T06:11:21.021001Z",
     "start_time": "2018-11-04T06:11:20.800343Z"
    }
   },
   "outputs": [
    {
     "name": "stdout",
     "output_type": "stream",
     "text": [
      "-rwxr--r-- 1 keras 1000 687K Nov  4 05:59 bpe_models/cft_spm_20000vs.model\r\n",
      "-rwxr--r-- 1 keras 1000 334K Nov  4 05:59 bpe_models/cft_spm_5000vs.model\r\n",
      "-rwxr--r-- 1 keras 1000 260K Nov  4 05:59 bpe_models/cft_spm_1500vs.model\r\n",
      "-rwxr--r-- 1 keras 1000 241K Nov  4 05:59 bpe_models/cft_spm_500vs.model\r\n"
     ]
    }
   ],
   "source": [
    "!ls -laht bpe_models/*.model"
   ]
  },
  {
   "cell_type": "code",
   "execution_count": 15,
   "metadata": {
    "ExecuteTime": {
     "end_time": "2018-11-04T06:13:37.253300Z",
     "start_time": "2018-11-04T06:13:37.247715Z"
    }
   },
   "outputs": [],
   "source": [
    "import os\n",
    "import sentencepiece as spm\n",
    "\n",
    "class Tokenizer(object):\n",
    "    def __init__(self,\n",
    "                 model_path,\n",
    "                 models_dir='bpe_models/'):\n",
    "        sp = spm.SentencePieceProcessor()\n",
    "        sp.Load(os.path.join(models_dir,model_path))\n",
    "        self.sp = sp\n",
    "        \n",
    "    def tokenize(self,text):\n",
    "        return self.sp.EncodeAsPieces(text)\n",
    "    \n",
    "    def enc_text2seq(self,text):\n",
    "        return self.sp.EncodeAsIds(text)\n",
    "\n",
    "    def enc_text2pieces(self,text):\n",
    "        return self.sp.EncodeAsPieces(text)\n",
    "\n",
    "    def dec_pieces2text(self,piece_list):\n",
    "        return self.sp.DecodePieces(piece_list)"
   ]
  },
  {
   "cell_type": "code",
   "execution_count": 16,
   "metadata": {
    "ExecuteTime": {
     "end_time": "2018-11-04T06:13:39.755170Z",
     "start_time": "2018-11-04T06:13:39.750162Z"
    }
   },
   "outputs": [],
   "source": [
    "tokenizer = Tokenizer('cft_spm_1500vs.model')"
   ]
  },
  {
   "cell_type": "code",
   "execution_count": 17,
   "metadata": {
    "ExecuteTime": {
     "end_time": "2018-11-04T06:13:40.737194Z",
     "start_time": "2018-11-04T06:13:40.734745Z"
    }
   },
   "outputs": [],
   "source": [
    "text2pieces = tokenizer.enc_text2pieces\n",
    "pieces2text = tokenizer.dec_pieces2text"
   ]
  },
  {
   "cell_type": "code",
   "execution_count": 18,
   "metadata": {
    "ExecuteTime": {
     "end_time": "2018-11-04T06:13:41.231655Z",
     "start_time": "2018-11-04T06:13:41.228192Z"
    }
   },
   "outputs": [],
   "source": [
    "l = text2pieces('Соболева Мария Ивановна')"
   ]
  },
  {
   "cell_type": "code",
   "execution_count": 19,
   "metadata": {
    "ExecuteTime": {
     "end_time": "2018-11-04T06:13:42.822313Z",
     "start_time": "2018-11-04T06:13:42.814186Z"
    }
   },
   "outputs": [
    {
     "data": {
      "text/plain": [
       "['▁С', 'оболева', '▁М', 'ария', '▁', 'И', 'вановна']"
      ]
     },
     "execution_count": 19,
     "metadata": {},
     "output_type": "execute_result"
    }
   ],
   "source": [
    "l"
   ]
  },
  {
   "cell_type": "code",
   "execution_count": 21,
   "metadata": {
    "ExecuteTime": {
     "end_time": "2018-11-04T06:13:48.849301Z",
     "start_time": "2018-11-04T06:13:48.845920Z"
    }
   },
   "outputs": [
    {
     "data": {
      "text/plain": [
       "'Соболева Мария Ивановна'"
      ]
     },
     "execution_count": 21,
     "metadata": {},
     "output_type": "execute_result"
    }
   ],
   "source": [
    "pieces2text(l)"
   ]
  }
 ],
 "metadata": {
  "kernelspec": {
   "display_name": "Python 3",
   "language": "python",
   "name": "python3"
  },
  "language_info": {
   "codemirror_mode": {
    "name": "ipython",
    "version": 3
   },
   "file_extension": ".py",
   "mimetype": "text/x-python",
   "name": "python",
   "nbconvert_exporter": "python",
   "pygments_lexer": "ipython3",
   "version": "3.6.3"
  },
  "toc": {
   "base_numbering": 1,
   "nav_menu": {},
   "number_sections": true,
   "sideBar": true,
   "skip_h1_title": false,
   "title_cell": "Table of Contents",
   "title_sidebar": "Contents",
   "toc_cell": false,
   "toc_position": {},
   "toc_section_display": true,
   "toc_window_display": false
  }
 },
 "nbformat": 4,
 "nbformat_minor": 2
}
